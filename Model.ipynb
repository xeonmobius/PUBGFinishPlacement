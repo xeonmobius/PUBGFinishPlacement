{
 "cells": [
  {
   "cell_type": "code",
   "execution_count": 33,
   "metadata": {},
   "outputs": [],
   "source": [
    "import numpy as np\n",
    "import gc\n",
    "import pandas as pd\n",
    "import seaborn as sns\n",
    "import matplotlib.pyplot as plt\n",
    "%matplotlib inline\n",
    "import warnings\n",
    "warnings.simplefilter(action='ignore', category=FutureWarning)\n",
    "from sklearn.metrics import mean_absolute_error\n",
    "\n",
    "from sklearn.model_selection import learning_curve\n",
    "from sklearn.ensemble import RandomForestRegressor\n",
    "from xgboost import XGBRegressor\n",
    "from sklearn.linear_model import LinearRegression\n",
    "from lightgbm import LGBMRegressor\n",
    "from sklearn import svm\n",
    "#from catboost import CatBoostRegressor\n",
    "from xgboost import plot_importance\n",
    "import featuretools as ft"
   ]
  },
  {
   "cell_type": "code",
   "execution_count": 34,
   "metadata": {},
   "outputs": [],
   "source": [
    "#https://www.kaggle.com/arjanso/reducing-dataframe-memory-size-by-65\n",
    "def reduce_mem_usage(props):\n",
    "    NAlist = []\n",
    "    for col in props.columns:\n",
    "        if props[col].dtype != object:  # Exclude strings\n",
    "            # make variables for Int, max and min\n",
    "            IsInt = False\n",
    "            mx = props[col].max()\n",
    "            mn = props[col].min()  \n",
    "            # Integer does not support NA, therefore, NA needs to be filled\n",
    "            if not np.isfinite(props[col]).all(): \n",
    "                NAlist.append(col)\n",
    "                props[col].fillna(mn-1,inplace=True)     \n",
    "            # test if column can be converted to an integer\n",
    "            asint = props[col].fillna(0).astype(np.int64)\n",
    "            result = (props[col] - asint)\n",
    "            result = result.sum()\n",
    "            if result > -0.01 and result < 0.01:\n",
    "                IsInt = True\n",
    "            # Make Integer/unsigned Integer datatypes\n",
    "            if IsInt:\n",
    "                if mn >= 0:\n",
    "                    if mx < 255:\n",
    "                        props[col] = props[col].astype(np.uint8)\n",
    "                    elif mx < 65535:\n",
    "                        props[col] = props[col].astype(np.uint16)\n",
    "                    elif mx < 4294967295:\n",
    "                        props[col] = props[col].astype(np.uint32)\n",
    "                    else:\n",
    "                        props[col] = props[col].astype(np.uint64)\n",
    "                else:\n",
    "                    if mn > np.iinfo(np.int8).min and mx < np.iinfo(np.int8).max:\n",
    "                        props[col] = props[col].astype(np.int8)\n",
    "                    elif mn > np.iinfo(np.int16).min and mx < np.iinfo(np.int16).max:\n",
    "                        props[col] = props[col].astype(np.int16)\n",
    "                    elif mn > np.iinfo(np.int32).min and mx < np.iinfo(np.int32).max:\n",
    "                        props[col] = props[col].astype(np.int32)\n",
    "                    elif mn > np.iinfo(np.int64).min and mx < np.iinfo(np.int64).max:\n",
    "                        props[col] = props[col].astype(np.int64)          \n",
    "            # Make float datatypes 32 bit\n",
    "            else:\n",
    "                props[col] = props[col].astype(np.float16)\n",
    "    return props, NAlist"
   ]
  },
  {
   "cell_type": "code",
   "execution_count": 35,
   "metadata": {},
   "outputs": [],
   "source": [
    "df_train = pd.read_hdf('train_V2.hdf')"
   ]
  },
  {
   "cell_type": "code",
   "execution_count": 36,
   "metadata": {},
   "outputs": [
    {
     "name": "stdout",
     "output_type": "stream",
     "text": [
      "<class 'pandas.core.frame.DataFrame'>\n",
      "Int64Index: 4446966 entries, 0 to 4446965\n",
      "Data columns (total 29 columns):\n",
      "Id                 object\n",
      "groupId            object\n",
      "matchId            object\n",
      "assists            uint8\n",
      "boosts             uint8\n",
      "damageDealt        float16\n",
      "DBNOs              uint8\n",
      "headshotKills      uint8\n",
      "heals              uint8\n",
      "killPlace          uint8\n",
      "killPoints         uint16\n",
      "kills              uint8\n",
      "killStreaks        uint8\n",
      "longestKill        float16\n",
      "matchDuration      uint16\n",
      "matchType          object\n",
      "maxPlace           uint8\n",
      "numGroups          uint8\n",
      "rankPoints         int16\n",
      "revives            uint8\n",
      "rideDistance       float16\n",
      "roadKills          uint8\n",
      "swimDistance       float16\n",
      "teamKills          uint8\n",
      "vehicleDestroys    uint8\n",
      "walkDistance       float16\n",
      "weaponsAcquired    uint8\n",
      "winPoints          uint16\n",
      "winPlacePerc       float16\n",
      "dtypes: float16(6), int16(1), object(4), uint16(3), uint8(15)\n",
      "memory usage: 1.3 GB\n"
     ]
    }
   ],
   "source": [
    "df_train.info(memory_usage='deep')"
   ]
  },
  {
   "cell_type": "code",
   "execution_count": 5,
   "metadata": {},
   "outputs": [
    {
     "name": "stdout",
     "output_type": "stream",
     "text": [
      "Average memory usage for uint32 columns: 22.16 MB\n",
      "Average memory usage for uint16 columns: 14.54 MB\n",
      "Average memory usage for uint8 columns: 5.97 MB\n",
      "Average memory usage for float16 columns: 11.87 MB\n"
     ]
    }
   ],
   "source": [
    "for dtype in df_train.dtypes.unique():\n",
    "    selected_dtype = df_train.select_dtypes(include=[dtype])\n",
    "    mean_usage_b = selected_dtype.memory_usage(deep=True).mean()\n",
    "    mean_usage_mb = mean_usage_b / 1024 ** 2\n",
    "    print(\"Average memory usage for {} columns: {:03.2f} MB\".format(dtype,mean_usage_mb))"
   ]
  },
  {
   "cell_type": "code",
   "execution_count": 37,
   "metadata": {},
   "outputs": [],
   "source": [
    "df_train, NAlist = reduce_mem_usage(df_train)"
   ]
  },
  {
   "cell_type": "code",
   "execution_count": 38,
   "metadata": {},
   "outputs": [
    {
     "name": "stdout",
     "output_type": "stream",
     "text": [
      "<class 'pandas.core.frame.DataFrame'>\n",
      "Int64Index: 4446966 entries, 0 to 4446965\n",
      "Data columns (total 29 columns):\n",
      "Id                 object\n",
      "groupId            object\n",
      "matchId            object\n",
      "assists            uint8\n",
      "boosts             uint8\n",
      "damageDealt        float16\n",
      "DBNOs              uint8\n",
      "headshotKills      uint8\n",
      "heals              uint8\n",
      "killPlace          uint8\n",
      "killPoints         uint16\n",
      "kills              uint8\n",
      "killStreaks        uint8\n",
      "longestKill        float16\n",
      "matchDuration      uint16\n",
      "matchType          object\n",
      "maxPlace           uint8\n",
      "numGroups          uint8\n",
      "rankPoints         int16\n",
      "revives            uint8\n",
      "rideDistance       float16\n",
      "roadKills          uint8\n",
      "swimDistance       float16\n",
      "teamKills          uint8\n",
      "vehicleDestroys    uint8\n",
      "walkDistance       float16\n",
      "weaponsAcquired    uint8\n",
      "winPoints          uint16\n",
      "winPlacePerc       float16\n",
      "dtypes: float16(6), int16(1), object(4), uint16(3), uint8(15)\n",
      "memory usage: 1.3 GB\n"
     ]
    }
   ],
   "source": [
    "df_train.info(memory_usage='deep')"
   ]
  },
  {
   "cell_type": "code",
   "execution_count": 31,
   "metadata": {},
   "outputs": [
    {
     "name": "stdout",
     "output_type": "stream",
     "text": [
      "Average memory usage for uint16 columns: 0.02 MB\n",
      "Average memory usage for uint32 columns: 0.02 MB\n",
      "Average memory usage for uint8 columns: 0.01 MB\n",
      "Average memory usage for float16 columns: 0.02 MB\n"
     ]
    }
   ],
   "source": [
    "for dtype in df_train.dtypes.unique():\n",
    "    selected_dtype = df_train.select_dtypes(include=[dtype])\n",
    "    mean_usage_b = selected_dtype.memory_usage(deep=True).mean()\n",
    "    mean_usage_mb = mean_usage_b / 1024 ** 2\n",
    "    print(\"Average memory usage for {} columns: {:03.2f} MB\".format(dtype,mean_usage_mb))"
   ]
  },
  {
   "cell_type": "code",
   "execution_count": 8,
   "metadata": {},
   "outputs": [
    {
     "data": {
      "text/plain": [
       "97"
      ]
     },
     "execution_count": 8,
     "metadata": {},
     "output_type": "execute_result"
    }
   ],
   "source": [
    "train = df_train\n",
    "del df_train\n",
    "gc.collect()"
   ]
  },
  {
   "cell_type": "code",
   "execution_count": 59,
   "metadata": {},
   "outputs": [
    {
     "name": "stdout",
     "output_type": "stream",
     "text": [
      "Number of Numerical features:  26\n",
      "Number of Categorical features:  0\n"
     ]
    },
    {
     "data": {
      "text/plain": [
       "Index(['Id', 'groupId', 'matchId', 'assists', 'boosts', 'damageDealt', 'DBNOs',\n",
       "       'headshotKills', 'heals', 'killPlace', 'killPoints', 'kills',\n",
       "       'killStreaks', 'longestKill', 'maxPlace', 'numGroups', 'revives',\n",
       "       'rideDistance', 'roadKills', 'swimDistance', 'teamKills',\n",
       "       'vehicleDestroys', 'walkDistance', 'weaponsAcquired', 'winPoints',\n",
       "       'winPlacePerc'],\n",
       "      dtype='object')"
      ]
     },
     "execution_count": 59,
     "metadata": {},
     "output_type": "execute_result"
    }
   ],
   "source": [
    "# Get the # of numerical and categorical feature\n",
    "numerical_feats = train.dtypes[train.dtypes != \"object\"].index\n",
    "print(\"Number of Numerical features: \", len(numerical_feats))\n",
    "categorical_feats = train.dtypes[train.dtypes == \"object\"].index\n",
    "print(\"Number of Categorical features: \", len(categorical_feats))\n",
    "numerical_feats"
   ]
  },
  {
   "cell_type": "code",
   "execution_count": null,
   "metadata": {},
   "outputs": [],
   "source": [
    "train.describe()"
   ]
  },
  {
   "cell_type": "markdown",
   "metadata": {},
   "source": [
    "We do univariate analysis for each variable. We want to observe how the variables are distributed."
   ]
  },
  {
   "cell_type": "code",
   "execution_count": null,
   "metadata": {},
   "outputs": [],
   "source": [
    "train['winPlacePerc'].plot.hist(bins=20)"
   ]
  },
  {
   "cell_type": "code",
   "execution_count": null,
   "metadata": {},
   "outputs": [],
   "source": [
    "train['kills'].plot.hist(bins=10)"
   ]
  },
  {
   "cell_type": "code",
   "execution_count": null,
   "metadata": {
    "scrolled": true
   },
   "outputs": [],
   "source": [
    "ax = sns.violinplot(x=train['kills'].values)\n",
    "print('Skew: {}'.format(train['kills'].skew()))\n",
    "print('Kurt: {}'.format(train['kills'].kurt()))"
   ]
  },
  {
   "cell_type": "code",
   "execution_count": null,
   "metadata": {},
   "outputs": [],
   "source": [
    "train['DBNOs'].plot.hist(bins=10)"
   ]
  },
  {
   "cell_type": "code",
   "execution_count": null,
   "metadata": {},
   "outputs": [],
   "source": [
    "ax = sns.violinplot(x=train['DBNOs'].values)\n",
    "print('Skew: {}'.format(train['DBNOs'].skew()))\n",
    "print('Kurt: {}'.format(train['DBNOs'].kurt()))"
   ]
  },
  {
   "cell_type": "code",
   "execution_count": null,
   "metadata": {},
   "outputs": [],
   "source": [
    "ax = sns.violinplot(x=train['assists'].values)\n",
    "print('Skew: {}'.format(train['assists'].skew()))\n",
    "print('Kurt: {}'.format(train['assists'].kurt()))"
   ]
  },
  {
   "cell_type": "code",
   "execution_count": null,
   "metadata": {},
   "outputs": [],
   "source": [
    "ax = sns.violinplot(x=train['boosts'].values)\n",
    "print('Skew: {}'.format(train['boosts'].skew()))\n",
    "print('Kurt: {}'.format(train['boosts'].kurt()))"
   ]
  },
  {
   "cell_type": "code",
   "execution_count": null,
   "metadata": {},
   "outputs": [],
   "source": [
    "ax = sns.violinplot(x=train['damageDealt'].values)\n",
    "print('Skew: {}'.format(train['damageDealt'].skew()))\n",
    "print('Kurt: {}'.format(train['damageDealt'].kurt()))"
   ]
  },
  {
   "cell_type": "code",
   "execution_count": null,
   "metadata": {},
   "outputs": [],
   "source": [
    "ax = sns.violinplot(x=train['headshotKills'].values)\n",
    "print('Skew: {}'.format(train['headshotKills'].skew()))\n",
    "print('Kurt: {}'.format(train['headshotKills'].kurt()))"
   ]
  },
  {
   "cell_type": "code",
   "execution_count": null,
   "metadata": {},
   "outputs": [],
   "source": [
    "ax = sns.violinplot(x=train['heals'].values)\n",
    "print('Skew: {}'.format(train['heals'].skew()))\n",
    "print('Kurt: {}'.format(train['heals'].kurt()))"
   ]
  },
  {
   "cell_type": "code",
   "execution_count": null,
   "metadata": {},
   "outputs": [],
   "source": [
    "ax = sns.violinplot(x=train['roadKills'].values)\n",
    "print('Skew: {}'.format(train['roadKills'].skew()))\n",
    "print('Kurt: {}'.format(train['roadKills'].kurt()))"
   ]
  },
  {
   "cell_type": "code",
   "execution_count": null,
   "metadata": {},
   "outputs": [],
   "source": [
    "ax = sns.violinplot(x=train['swimDistance'].values)\n",
    "print('Skew: {}'.format(train['swimDistance'].skew()))\n",
    "print('Kurt: {}'.format(train['swimDistance'].kurt()))"
   ]
  },
  {
   "cell_type": "code",
   "execution_count": null,
   "metadata": {},
   "outputs": [],
   "source": [
    "ax = sns.violinplot(x=train['teamKills'].values)\n",
    "print('Skew: {}'.format(train['teamKills'].skew()))\n",
    "print('Kurt: {}'.format(train['teamKills'].kurt()))"
   ]
  },
  {
   "cell_type": "code",
   "execution_count": null,
   "metadata": {},
   "outputs": [],
   "source": [
    "ax = sns.violinplot(x=train['teamKills'].values)\n",
    "print('Skew: {}'.format(train['teamKills'].skew()))\n",
    "print('Kurt: {}'.format(train['teamKills'].kurt()))"
   ]
  },
  {
   "cell_type": "code",
   "execution_count": null,
   "metadata": {},
   "outputs": [],
   "source": [
    "ax = sns.violinplot(x=train['vehicleDestroys'].values)\n",
    "print('Skew: {}'.format(train['vehicleDestroys'].skew()))\n",
    "print('Kurt: {}'.format(train['vehicleDestroys'].kurt()))"
   ]
  },
  {
   "cell_type": "code",
   "execution_count": null,
   "metadata": {},
   "outputs": [],
   "source": [
    "ax = sns.violinplot(x=train['walkDistance'].values)\n",
    "print('Skew: {}'.format(train['walkDistance'].skew()))\n",
    "print('Kurt: {}'.format(train['walkDistance'].kurt()))"
   ]
  },
  {
   "cell_type": "code",
   "execution_count": null,
   "metadata": {},
   "outputs": [],
   "source": [
    "ax = sns.violinplot(x=train['weaponsAcquired'].values)\n",
    "print('Skew: {}'.format(train['weaponsAcquired'].skew()))\n",
    "print('Kurt: {}'.format(train['weaponsAcquired'].kurt()))"
   ]
  },
  {
   "cell_type": "code",
   "execution_count": null,
   "metadata": {},
   "outputs": [],
   "source": [
    "ax = sns.violinplot(x=train['winPoints'].values)\n",
    "print('Skew: {}'.format(train['winPoints'].skew()))\n",
    "print('Kurt: {}'.format(train['winPoints'].kurt()))"
   ]
  },
  {
   "cell_type": "code",
   "execution_count": null,
   "metadata": {},
   "outputs": [],
   "source": [
    "ax = sns.violinplot(x=train['numGroups'].values)\n",
    "print('Skew: {}'.format(train['numGroups'].skew()))\n",
    "print('Kurt: {}'.format(train['numGroups'].kurt()))"
   ]
  },
  {
   "cell_type": "code",
   "execution_count": null,
   "metadata": {},
   "outputs": [],
   "source": [
    "ax = sns.violinplot(x=train['maxPlace'].values)\n",
    "print('Skew: {}'.format(train['maxPlace'].skew()))\n",
    "print('Kurt: {}'.format(train['maxPlace'].kurt()))"
   ]
  },
  {
   "cell_type": "markdown",
   "metadata": {},
   "source": [
    "Do bivariate analysis"
   ]
  },
  {
   "cell_type": "code",
   "execution_count": null,
   "metadata": {},
   "outputs": [],
   "source": [
    "f, ax = plt.subplots(figsize=(20,15))\n",
    "sns.heatmap(train.corr(), annot=True, fmt='.2f', linewidths=.5, ax=ax)"
   ]
  },
  {
   "cell_type": "markdown",
   "metadata": {},
   "source": [
    "Feature Engineering"
   ]
  },
  {
   "cell_type": "code",
   "execution_count": 60,
   "metadata": {},
   "outputs": [
    {
     "data": {
      "text/plain": [
       "Entityset: placement\n",
       "  Entities:\n",
       "    pubg [Rows: 2000, Columns: 23]\n",
       "    chickenDinner [Rows: 2000, Columns: 1]\n",
       "  Relationships:\n",
       "    pubg.Id -> chickenDinner.Id"
      ]
     },
     "execution_count": 60,
     "metadata": {},
     "output_type": "execute_result"
    }
   ],
   "source": [
    "train_feat = train.drop(columns={'winPlacePerc', 'groupId','matchId'})\n",
    "es = ft.EntitySet(id='placement')\n",
    "es.entity_from_dataframe(entity_id='pubg', dataframe=train_feat, index='Id')\n",
    "es.normalize_entity(base_entity_id='pubg', new_entity_id='chickenDinner', index='Id')"
   ]
  },
  {
   "cell_type": "code",
   "execution_count": 61,
   "metadata": {},
   "outputs": [
    {
     "name": "stdout",
     "output_type": "stream",
     "text": [
      "Built 154 features\n",
      "Elapsed: 00:19 | Remaining: 00:00 | Progress: 100%|██████████████████████████████████████████| Calculated: 10/10 chunks\n"
     ]
    }
   ],
   "source": [
    "feature_matrix, feature_names = ft.dfs(entityset=es, target_entity='pubg', verbose=1)"
   ]
  },
  {
   "cell_type": "code",
   "execution_count": 9,
   "metadata": {},
   "outputs": [],
   "source": [
    "train_feat = train.drop(columns={'winPlacePerc', 'Id', 'groupId','matchId'})\n",
    "\n",
    "train_feat['headshot/kills'] = train_feat['headshotKills'] / train['kills']\n",
    "train_feat['headshot/kills'].fillna(0, inplace=True)\n",
    "train_feat['headshot/kills'].replace(np.inf, 0, inplace=True)\n",
    "\n",
    "train_feat['maxPlace/killPlace'] = train_feat['maxPlace'] / train['killPlace']\n",
    "train_feat['maxPlace/killPlace'].fillna(0, inplace=True)\n",
    "train_feat['maxPlace/killPlace'].replace(np.inf, 0, inplace=True)\n",
    "\n",
    "train_feat['walkDistance/killPlace'] = train_feat['walkDistance'] / train['killPlace']\n",
    "train_feat['walkDistance/killPlace'].fillna(0, inplace=True)\n",
    "train_feat['walkDistance/killPlace'].replace(np.inf, 0, inplace=True)\n",
    "\n",
    "train_feat['walkDistance/maxPlace'] = train_feat['walkDistance'] / train['maxPlace']\n",
    "train_feat['walkDistance/maxPlace'].fillna(0, inplace=True)\n",
    "train_feat['walkDistance/maxPlace'].replace(np.inf, 0, inplace=True)\n",
    "\n",
    "train_feat['kill/damageDealt'] = train_feat['kills'] / train['damageDealt']\n",
    "train_feat['kill/damageDealt'].fillna(0, inplace=True)\n",
    "train_feat['kill/damageDealt'].replace(np.inf, 0, inplace=True)\n",
    "\n",
    "train_feat['passive'] = train_feat['assists'] + train_feat['heals'] + train_feat['DBNOs'] + train_feat['revives'] \\\n",
    "+ train_feat['boosts']"
   ]
  },
  {
   "cell_type": "code",
   "execution_count": 10,
   "metadata": {},
   "outputs": [],
   "source": [
    "from sklearn.model_selection import train_test_split"
   ]
  },
  {
   "cell_type": "code",
   "execution_count": 30,
   "metadata": {},
   "outputs": [],
   "source": [
    "x = train_feat.iloc[0:100000]\n",
    "y = train['winPlacePerc'].iloc[0:100000]\n",
    "X_train, X_test, y_train, y_test = train_test_split(x, y, test_size=0.2, random_state=42)"
   ]
  },
  {
   "cell_type": "code",
   "execution_count": 31,
   "metadata": {},
   "outputs": [],
   "source": [
    "train_sizes, train_scores, validation_scores = learning_curve(\n",
    "                                                   estimator = XGBRegressor(), X = x,\n",
    "                                                   y = y, cv = 5, scoring = 'neg_mean_absolute_error',\n",
    "                                                   shuffle=True)\n",
    "\n",
    "train_scores_mean = -train_scores.mean(axis = 1)\n",
    "validation_scores_mean = -validation_scores.mean(axis = 1)"
   ]
  },
  {
   "cell_type": "code",
   "execution_count": 32,
   "metadata": {},
   "outputs": [
    {
     "data": {
      "text/plain": [
       "<matplotlib.legend.Legend at 0x1fa0a31b6a0>"
      ]
     },
     "execution_count": 32,
     "metadata": {},
     "output_type": "execute_result"
    },
    {
     "data": {
      "image/png": "[encoded data removed]",
      "text/plain": [
       "<Figure size 576x396 with 1 Axes>"
      ]
     },
     "metadata": {},
     "output_type": "display_data"
    }
   ],
   "source": [
    "plt.style.use('seaborn')\n",
    "\n",
    "plt.plot(train_sizes, train_scores_mean, label = 'Training error')\n",
    "plt.plot(train_sizes, validation_scores_mean, label = 'Validation error')\n",
    "\n",
    "plt.ylabel('MSE', fontsize = 14)\n",
    "plt.xlabel('Training set size', fontsize = 14)\n",
    "plt.title('Learning curves for a linear regression model', fontsize = 18, y = 1.03)\n",
    "plt.legend()"
   ]
  },
  {
   "cell_type": "code",
   "execution_count": 14,
   "metadata": {},
   "outputs": [
    {
     "data": {
      "image/png": "[encoded data removed]",
      "text/plain": [
       "<Figure size 432x288 with 1 Axes>"
      ]
     },
     "metadata": {
      "needs_background": "light"
     },
     "output_type": "display_data"
    }
   ],
   "source": [
    "model = XGBRegressor()\n",
    "model.fit(x,y)\n",
    "plot_importance(model)\n",
    "plt.show()"
   ]
  },
  {
   "cell_type": "code",
   "execution_count": 91,
   "metadata": {},
   "outputs": [],
   "source": []
  },
  {
   "cell_type": "code",
   "execution_count": 16,
   "metadata": {},
   "outputs": [],
   "source": [
    "test = pd.read_hdf('test_v2.hdf')\n",
    "test, NAlist = reduce_mem_usage(test)\n",
    "submit = pd.DataFrame()\n",
    "submit['Id'] = test['Id'].copy(deep=True)"
   ]
  },
  {
   "cell_type": "code",
   "execution_count": 19,
   "metadata": {},
   "outputs": [],
   "source": [
    "test.drop(columns={'Id', 'groupId','matchId'}, inplace=True)\n",
    "test['headshot/kills'] = test['headshotKills'] / train['kills']\n",
    "test['headshot/kills'].fillna(0, inplace=True)\n",
    "test['headshot/kills'].replace(np.inf, 0, inplace=True)\n",
    "\n",
    "test['maxPlace/killPlace'] = test['maxPlace'] / test['killPlace']\n",
    "test['maxPlace/killPlace'].fillna(0, inplace=True)\n",
    "test['maxPlace/killPlace'].replace(np.inf, 0, inplace=True)\n",
    "\n",
    "test['walkDistance/killPlace'] = test['walkDistance'] / train['killPlace']\n",
    "test['walkDistance/killPlace'].fillna(0, inplace=True)\n",
    "test['walkDistance/killPlace'].replace(np.inf, 0, inplace=True)\n",
    "\n",
    "test['walkDistance/maxPlace'] = test['walkDistance'] / train['maxPlace']\n",
    "test['walkDistance/maxPlace'].fillna(0, inplace=True)\n",
    "test['walkDistance/maxPlace'].replace(np.inf, 0, inplace=True)\n",
    "\n",
    "test['kill/damageDealt'] = test['kills'] / train['damageDealt']\n",
    "test['kill/damageDealt'].fillna(0, inplace=True)\n",
    "test['kill/damageDealt'].replace(np.inf, 0, inplace=True)\n",
    "\n",
    "test['passive'] = test['assists'] +test['heals'] + test['DBNOs'] + test['revives'] \\\n",
    "+ test['boosts']"
   ]
  },
  {
   "cell_type": "code",
   "execution_count": 20,
   "metadata": {},
   "outputs": [],
   "source": [
    "submit['winPlacePerc'] = model.predict(test)"
   ]
  },
  {
   "cell_type": "code",
   "execution_count": 21,
   "metadata": {},
   "outputs": [],
   "source": [
    "submit.to_csv('submission.csv',index=False)"
   ]
  },
  {
   "cell_type": "code",
   "execution_count": null,
   "metadata": {},
   "outputs": [],
   "source": []
  }
 ],
 "metadata": {
  "kernelspec": {
   "display_name": "Python 3",
   "language": "python",
   "name": "python3"
  },
  "language_info": {
   "codemirror_mode": {
    "name": "ipython",
    "version": 3
   },
   "file_extension": ".py",
   "mimetype": "text/x-python",
   "name": "python",
   "nbconvert_exporter": "python",
   "pygments_lexer": "ipython3",
   "version": "3.6.6"
  }
 },
 "nbformat": 4,
 "nbformat_minor": 2
}
